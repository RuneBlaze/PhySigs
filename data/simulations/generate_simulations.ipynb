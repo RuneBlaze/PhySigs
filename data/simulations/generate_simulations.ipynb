{
 "cells": [
  {
   "cell_type": "code",
   "execution_count": 1,
   "metadata": {},
   "outputs": [],
   "source": [
    "import os, sys, glob\n",
    "import math\n",
    "import numpy as np\n",
    "import pandas as pd\n",
    "import networkx as nx\n",
    "%matplotlib inline\n",
    "%config InlineBackend.figure_format = 'svg'\n",
    "import matplotlib as mpl\n",
    "import matplotlib.pyplot as plt\n",
    "import random\n",
    "import copy\n",
    "import cvxopt"
   ]
  },
  {
   "cell_type": "code",
   "execution_count": 2,
   "metadata": {},
   "outputs": [],
   "source": [
    "def simulateD(nrSignatures, nrComponents=1):\n",
    "    D = np.zeros(shape=(nrSignatures, nrComponents))\n",
    "    for j in range(nrComponents):\n",
    "        d = np.random.dirichlet(alpha=[.25]*nrSignatures)\n",
    "        D[:,j] = d\n",
    "        \n",
    "        # remove values smaller than 0.01\n",
    "        for idx, val in enumerate(D[:,j]):\n",
    "            if val < 0.01:\n",
    "                D[idx,j] = 0\n",
    "                \n",
    "        # renormalize\n",
    "        total = np.sum(D[:,j])\n",
    "        for idx, val in enumerate(D[:,j]):\n",
    "            D[idx,j] = val / total\n",
    "\n",
    "    return D"
   ]
  },
  {
   "cell_type": "code",
   "execution_count": 3,
   "metadata": {},
   "outputs": [],
   "source": [
    "def simulatec(nrNodes, min_count, max_count):\n",
    "    c = np.zeros(shape=(1, nrNodes))\n",
    "    for j in range(nrNodes):\n",
    "        c[0,j] = np.random.randint(low=min_count, high=max_count)\n",
    "    return c"
   ]
  },
  {
   "cell_type": "code",
   "execution_count": 4,
   "metadata": {},
   "outputs": [],
   "source": [
    "df_sigs = pd.read_table(\"../../results/signatures_cosmic.tsv\", sep=\"\\t\")"
   ]
  },
  {
   "cell_type": "code",
   "execution_count": 5,
   "metadata": {},
   "outputs": [],
   "source": [
    "def noise(nrContexts, nrNodes, eps):\n",
    "    X = np.zeros(shape=(nrContexts, nrNodes))\n",
    "    for i in range(nrContexts):\n",
    "        for j in range(nrNodes):\n",
    "            X[i,j] = np.random.normal(0, eps)\n",
    "    return X"
   ]
  },
  {
   "cell_type": "code",
   "execution_count": 58,
   "metadata": {},
   "outputs": [],
   "source": [
    "def simulate(treeFilename, df_S, k, eps):\n",
    "    T = nx.read_adjlist(\"./m11_S109.tree\")\n",
    "    S = df_S.values.T\n",
    "    \n",
    "    V = T.nodes()\n",
    "    node2idx = { node : idx for idx, node in enumerate(V) }\n",
    "    \n",
    "    # select k edges to remove\n",
    "    E_rem = copy.copy(T.edges())\n",
    "    random.shuffle(E_rem)\n",
    "    E_rem = E_rem[:k]\n",
    "    for e in E_rem:\n",
    "        T.remove_edge(*e)\n",
    "        \n",
    "    components = list(nx.connected_components(T))\n",
    "        \n",
    "    # simulate mutation counts\n",
    "    c = simulatec(len(V), 5, 100)\n",
    "\n",
    "    nrContexts   = S.shape[0]\n",
    "    nrSignatures = S.shape[1]\n",
    "    nrComponents = len(components)\n",
    "    \n",
    "    D = simulateD(nrSignatures, nrComponents)\n",
    "    df_D = pd.DataFrame(D, \n",
    "                        index=map(lambda x : \"Signature.\" + str(x), range(1,nrSignatures+1)),\n",
    "                        columns=map(lambda x : \":\".join(x), components))\n",
    "    \n",
    "    P = np.zeros(shape=(nrContexts, len(V)))\n",
    "    for idx, component in enumerate(components):\n",
    "        sub_c = np.zeros(shape=(1, len(component)))\n",
    "        sub_d = np.reshape(D[:, idx], (nrSignatures, 1))\n",
    "        for idx2, node in enumerate(component):\n",
    "            org_idx2 = node2idx[node]\n",
    "            sub_c[0, idx2] = c[0, org_idx2]\n",
    "        \n",
    "        sub_P = np.dot(S, np.dot(sub_d, sub_c))\n",
    "        for idx2, node in enumerate(component):\n",
    "            P[:, node2idx[node]] = sub_P[:, idx2]\n",
    "            \n",
    "    P_eps = P + noise(nrContexts, len(V), eps)\n",
    "    P_eps = np.maximum(np.zeros(shape=P_eps.shape), P_eps)\n",
    "            \n",
    "    df_P = pd.DataFrame(np.round(P).astype(int), index=df_S.columns, columns=V)\n",
    "    df_P_eps = pd.DataFrame(np.round(P_eps).astype(int), index=df_S.columns, columns=V)\n",
    "    \n",
    "    return E_rem, df_P, df_P_eps, df_D"
   ]
  },
  {
   "cell_type": "code",
   "execution_count": 50,
   "metadata": {},
   "outputs": [],
   "source": [
    "E_rem, df_P, df_P_eps, df_D = simulateP(\"m11_S109.tree\", df_sigs, 2, .1)"
   ]
  },
  {
   "cell_type": "code",
   "execution_count": 60,
   "metadata": {},
   "outputs": [
    {
     "data": {
      "text/plain": [
       "array([1, 1, 0, 1, 1, 1, 0, 1, 1, 1, 0, 1, 1, 1, 0, 2, 0, 0, 0, 0, 0, 0, 0,\n",
       "       0, 0, 0, 0, 0, 0, 0, 0, 0, 1, 0, 1, 0, 1, 1, 1, 1, 1, 1, 1, 1, 0, 1,\n",
       "       1, 1, 1, 0, 1, 0, 1, 1, 2, 1, 1, 0, 1, 0, 0, 0, 1, 0, 1, 0, 0, 0, 0,\n",
       "       0, 0, 0, 0, 0, 0, 0, 0, 0, 0, 0, 0, 0, 0, 0, 0, 0, 0, 0, 0, 0, 0, 0,\n",
       "       0, 0, 0, 0])"
      ]
     },
     "execution_count": 60,
     "metadata": {},
     "output_type": "execute_result"
    }
   ],
   "source": [
    "df_P.values[:,1]"
   ]
  },
  {
   "cell_type": "code",
   "execution_count": 67,
   "metadata": {},
   "outputs": [],
   "source": [
    "for filename in glob.glob(\"*.tree\"):\n",
    "    base = os.path.basename(filename).rstrip(\".tree\")\n",
    "    for k in [0,1,2,3]:\n",
    "        for eps in [.1, .5]:\n",
    "            E_rem, df_P, df_P_eps, df_D = simulate(filename, df_sigs, k, eps)\n",
    "            filename_E = base + \"_k\" + str(k) + \"_eps\" + str(eps) + \".E.txt\"\n",
    "            filename_P = base + \"_k\" + str(k) + \"_eps\" + str(eps) + \".P.txt\"\n",
    "            filename_P_eps = base + \"_k\" + str(k) + \"_eps\" + str(eps) +\".P_eps.txt\"\n",
    "            filename_D = base + \"_k\" + str(k) + \"_eps\" + str(eps) + \".D.txt\"\n",
    "            \n",
    "            with open(filename_E, \"w\") as f:\n",
    "                for e in E_rem:\n",
    "                    f.write(e[0] + \" \" + e[1] + \"\\n\")\n",
    "            \n",
    "            df_P.to_csv(filename_P)\n",
    "            df_P_eps.to_csv(filename_P_eps)\n",
    "            df_D.to_csv(filename_D)"
   ]
  },
  {
   "cell_type": "code",
   "execution_count": 63,
   "metadata": {},
   "outputs": [
    {
     "data": {
      "text/plain": [
       "array([[ 1.,  1.,  1., ...,  0.,  0.,  0.],\n",
       "       [ 0.,  0.,  0., ...,  0.,  1.,  0.],\n",
       "       [ 0.,  0.,  1., ...,  0.,  0.,  0.],\n",
       "       ..., \n",
       "       [ 0.,  1.,  0., ...,  1.,  0.,  0.],\n",
       "       [ 0.,  0.,  0., ...,  0.,  0.,  1.],\n",
       "       [ 0.,  1.,  1., ...,  0.,  0.,  1.]])"
      ]
     },
     "execution_count": 63,
     "metadata": {},
     "output_type": "execute_result"
    }
   ],
   "source": [
    "np.maximum(np.zeros(shape=df_P_eps.values.shape), df_P_eps.values)"
   ]
  },
  {
   "cell_type": "code",
   "execution_count": 86,
   "metadata": {},
   "outputs": [],
   "source": [
    "M = np.array([[1., 2., 0.], [-8., 3., 2.], [0., 1., 1.]])\n",
    "P = np.dot(M.T, M)\n",
    "q = -np.dot(M.T, np.array([3., 2., 3.]))\n",
    "G = np.array([[1., 2., 1.], [2., 0., 1.], [-1., 2., -1.]])\n",
    "h = np.array([3., 2., -2.]).reshape((3,))"
   ]
  },
  {
   "cell_type": "code",
   "execution_count": 296,
   "metadata": {},
   "outputs": [],
   "source": [
    "def cvxopt_solve_qp(P, q, G=None, h=None, A=None, b=None):\n",
    "    P = .5 * (P + P.T)  # make sure P is symmetric\n",
    "    args = [cvxopt.matrix(P), cvxopt.matrix(q)]\n",
    "    if G is not None:\n",
    "        args.extend([cvxopt.matrix(G), cvxopt.matrix(h)])\n",
    "        if A is not None:\n",
    "            args.extend([cvxopt.matrix(A), cvxopt.matrix(b)])\n",
    "    cvxopt.solvers.options['maxiters'] = 10000\n",
    "    sol = cvxopt.solvers.qp(*args)\n",
    "    if 'optimal' not in sol['status']:\n",
    "        return None\n",
    "    return np.array(sol['x']).reshape((P.shape[1],))"
   ]
  },
  {
   "cell_type": "code",
   "execution_count": 97,
   "metadata": {},
   "outputs": [
    {
     "name": "stdout",
     "output_type": "stream",
     "text": [
      "     pcost       dcost       gap    pres   dres\n",
      " 0: -1.0062e+01 -8.2131e+00  3e+00  8e-01  6e-17\n",
      " 1: -8.9877e+00 -7.1656e+00  6e-01  3e-01  2e-16\n",
      " 2: -4.7428e+00 -5.6786e+00  9e-01  1e-16  1e-15\n",
      " 3: -5.5832e+00 -5.5940e+00  1e-02  5e-17  4e-16\n",
      " 4: -5.5921e+00 -5.5922e+00  1e-04  2e-16  3e-16\n",
      " 5: -5.5922e+00 -5.5922e+00  1e-06  1e-16  3e-16\n",
      "Optimal solution found.\n"
     ]
    },
    {
     "data": {
      "text/plain": [
       "array([ 0.12997344, -0.06498685,  1.74005307])"
      ]
     },
     "execution_count": 97,
     "metadata": {},
     "output_type": "execute_result"
    }
   ],
   "source": [
    "cvxopt_solve_qp(P, q, G, h)"
   ]
  },
  {
   "cell_type": "code",
   "execution_count": 98,
   "metadata": {},
   "outputs": [],
   "source": [
    "q = np.array([[1],[2],[1]])"
   ]
  },
  {
   "cell_type": "code",
   "execution_count": 100,
   "metadata": {},
   "outputs": [],
   "source": [
    "e = simulateD(30)"
   ]
  },
  {
   "cell_type": "code",
   "execution_count": 103,
   "metadata": {},
   "outputs": [],
   "source": [
    "q = np.dot(S, e)"
   ]
  },
  {
   "cell_type": "code",
   "execution_count": 104,
   "metadata": {},
   "outputs": [
    {
     "data": {
      "text/plain": [
       "array([ -3.22807446e-15,   4.04016765e-16,  -4.48004064e-15,\n",
       "         3.17915573e-02,   1.60108919e-14,   2.05468091e-02,\n",
       "        -1.44014330e-16,  -4.73662425e-16,  -2.93142183e-16,\n",
       "         5.01779342e-01,   8.43054222e-17,  -1.05866206e-15,\n",
       "         1.41259844e-02,   1.56524105e-02,   5.58588205e-02,\n",
       "        -6.54349033e-15,   3.38456501e-02,  -1.11276025e-15,\n",
       "         7.39291068e-16,  -1.44152828e-15,  -8.79776606e-17,\n",
       "         3.14858944e-16,  -3.81234148e-16,   2.96257674e-02,\n",
       "         1.45818755e-02,   0.00000000e+00,  -5.78694251e-18,\n",
       "         1.29599353e-01,   1.52592430e-01,  -1.26122862e-15])"
      ]
     },
     "execution_count": 104,
     "metadata": {},
     "output_type": "execute_result"
    }
   ],
   "source": [
    "cvxopt_solve_qp(np.dot(S.T,S), -np.dot(S.T, q))"
   ]
  },
  {
   "cell_type": "code",
   "execution_count": 106,
   "metadata": {},
   "outputs": [
    {
     "data": {
      "text/plain": [
       "array([[ 0.        ],\n",
       "       [ 0.        ],\n",
       "       [ 0.        ],\n",
       "       [ 0.03179156],\n",
       "       [ 0.        ],\n",
       "       [ 0.02054681],\n",
       "       [ 0.        ],\n",
       "       [ 0.        ],\n",
       "       [ 0.        ],\n",
       "       [ 0.50177934],\n",
       "       [ 0.        ],\n",
       "       [ 0.        ],\n",
       "       [ 0.01412598],\n",
       "       [ 0.01565241],\n",
       "       [ 0.05585882],\n",
       "       [ 0.        ],\n",
       "       [ 0.03384565],\n",
       "       [ 0.        ],\n",
       "       [ 0.        ],\n",
       "       [ 0.        ],\n",
       "       [ 0.        ],\n",
       "       [ 0.        ],\n",
       "       [ 0.        ],\n",
       "       [ 0.02962577],\n",
       "       [ 0.01458188],\n",
       "       [ 0.        ],\n",
       "       [ 0.        ],\n",
       "       [ 0.12959935],\n",
       "       [ 0.15259243],\n",
       "       [ 0.        ]])"
      ]
     },
     "execution_count": 106,
     "metadata": {},
     "output_type": "execute_result"
    }
   ],
   "source": [
    "e"
   ]
  },
  {
   "cell_type": "markdown",
   "metadata": {},
   "source": [
    "The goal is to generate a Fixed Signature Exposure instance with feature matrix $P$ and relative exposures $d$."
   ]
  },
  {
   "cell_type": "code",
   "execution_count": 107,
   "metadata": {},
   "outputs": [],
   "source": [
    "d = simulateD(30)"
   ]
  },
  {
   "cell_type": "markdown",
   "metadata": {},
   "source": [
    "We start by simulating mutation counts $c$."
   ]
  },
  {
   "cell_type": "code",
   "execution_count": 308,
   "metadata": {},
   "outputs": [],
   "source": [
    "c = simulatec(3, 1e4, 5e4)"
   ]
  },
  {
   "cell_type": "code",
   "execution_count": 309,
   "metadata": {},
   "outputs": [
    {
     "data": {
      "text/plain": [
       "array([[ 48364.,  42305.,  24078.]])"
      ]
     },
     "execution_count": 309,
     "metadata": {},
     "output_type": "execute_result"
    }
   ],
   "source": [
    "c"
   ]
  },
  {
   "cell_type": "markdown",
   "metadata": {},
   "source": [
    "We generate feature matrix $P$ as $S\\mathbf{d}\\mathbf{c}$."
   ]
  },
  {
   "cell_type": "code",
   "execution_count": 311,
   "metadata": {},
   "outputs": [],
   "source": [
    "P = np.dot(S, np.dot(d,c)) + noise(96, 3, 0.1)"
   ]
  },
  {
   "cell_type": "markdown",
   "metadata": {},
   "source": [
    "To obtain the corresponding Signature Exposure instance, we compute $\\mathbf{q}$ following the reduction, i.e. $q_i = \\sum_{j=1}^n c_j \\cdot p_{ij}$."
   ]
  },
  {
   "cell_type": "code",
   "execution_count": 312,
   "metadata": {},
   "outputs": [],
   "source": [
    "q = np.zeros(shape=(96,1))\n",
    "for i in range(96):\n",
    "    for j in range(3):\n",
    "        c_j = c[0, j]\n",
    "        q[i,0] += c_j * P[i,j]"
   ]
  },
  {
   "cell_type": "code",
   "execution_count": 313,
   "metadata": {},
   "outputs": [
    {
     "data": {
      "text/plain": [
       "array([ 0.,  0.,  0.,  0.,  0.,  0.,  0.,  0.,  0.,  0.,  0.,  0.,  0.,\n",
       "        0.,  0.,  0.,  0.,  0.,  0.,  0.,  0.,  0.,  0.,  0.,  0.,  0.,\n",
       "        0.,  0.,  0.,  0.])"
      ]
     },
     "execution_count": 313,
     "metadata": {},
     "output_type": "execute_result"
    }
   ],
   "source": [
    "np.zeros(30)"
   ]
  },
  {
   "cell_type": "code",
   "execution_count": 314,
   "metadata": {},
   "outputs": [
    {
     "data": {
      "text/plain": [
       "array([ 48364.,  42305.,  24078.])"
      ]
     },
     "execution_count": 314,
     "metadata": {},
     "output_type": "execute_result"
    }
   ],
   "source": [
    "sum(c)"
   ]
  },
  {
   "cell_type": "code",
   "execution_count": 315,
   "metadata": {},
   "outputs": [
    {
     "name": "stdout",
     "output_type": "stream",
     "text": [
      "48364.7553463\n",
      "42304.5668687\n",
      "24077.0043813\n"
     ]
    }
   ],
   "source": [
    "for j in range(3):\n",
    "    print np.sum(P[:,j])"
   ]
  },
  {
   "cell_type": "code",
   "execution_count": 316,
   "metadata": {},
   "outputs": [],
   "source": [
    "N = 0\n",
    "for j in range(3):\n",
    "    N += np.sum(P[:,j])**2"
   ]
  },
  {
   "cell_type": "code",
   "execution_count": 317,
   "metadata": {},
   "outputs": [
    {
     "name": "stdout",
     "output_type": "stream",
     "text": [
      "     pcost       dcost       gap    pres   dres\n",
      " 0: -7.8772e+16 -1.1999e+17  4e+16  0e+00  1e+00\n",
      " 1: -1.5569e+17 -1.8444e+17  3e+16  4e-02  3e-01\n",
      " 2: -1.6645e+17 -1.9803e+17  3e+16  3e-07  1e-16\n",
      " 3: -1.6889e+17 -1.7574e+17  7e+15  3e-07  1e-16\n",
      " 4: -1.6947e+17 -1.7033e+17  9e+14  5e-07  2e-16\n",
      " 5: -1.6958e+17 -1.6971e+17  1e+14  3e-07  1e-16\n",
      " 6: -1.6961e+17 -1.6963e+17  3e+13  5e-07  1e-16\n",
      " 7: -1.6961e+17 -1.6962e+17  3e+12  3e-07  1e-16\n",
      " 8: -1.6961e+17 -1.6962e+17  4e+11  9e-08  1e-16\n",
      " 9: -1.6961e+17 -1.6961e+17  6e+10  5e-07  1e-16\n",
      "10: -1.6961e+17 -1.6961e+17  9e+09  3e-07  1e-16\n",
      "11: -1.6961e+17 -1.6961e+17  1e+09  5e-07  1e-16\n",
      "12: -1.6961e+17 -1.6961e+17  2e+08  3e-07  1e-16\n",
      "13: -1.6961e+17 -1.6961e+17  2e+07  3e-07  1e-16\n",
      "14: -1.6961e+17 -1.6961e+17  2e+06  2e-07  2e-16\n",
      "15: -1.6961e+17 -1.6961e+17  7e+04  3e-07  2e-16\n",
      "16: -1.6961e+17 -1.6961e+17  2e+03  3e-07  1e-16\n",
      "17: -1.6961e+17 -1.6961e+17  2e+01  4e-07  2e-16\n",
      "18: -1.6961e+17 -1.6961e+17  2e-01  2e-07  1e-16\n",
      "19: -1.6961e+17 -1.6961e+17  2e-03  3e-07  2e-16\n",
      "20: -1.6961e+17 -1.6961e+17  2e-05  3e-07  2e-16\n",
      "21: -1.6961e+17 -1.6961e+17  2e-07  5e-07  2e-16\n",
      "22: -1.6961e+17 -1.6961e+17  2e-09  3e-07  2e-16\n",
      "23: -1.6961e+17 -1.6961e+17  2e-11  5e-07  1e-16\n",
      "24: -1.6961e+17 -1.6961e+17  2e-13  2e-07  1e-16\n",
      "25: -1.6961e+17 -1.6961e+17  2e-15  2e-07  1e-16\n",
      "26: -1.6961e+17 -1.6961e+17  2e-17  4e-07  1e-16\n",
      "27: -1.6961e+17 -1.6961e+17  2e-19  7e-07  2e-16\n",
      "28: -1.6961e+17 -1.6961e+17  2e-21  4e-07  1e-16\n",
      "29: -1.6961e+17 -1.6961e+17  2e-23  3e-07  1e-16\n",
      "30: -1.6961e+17 -1.6961e+17  2e-25  3e-07  1e-16\n",
      "31: -1.6961e+17 -1.6961e+17  2e-27  3e-07  1e-16\n",
      "32: -1.6961e+17 -1.6961e+17  2e-29  3e-07  1e-16\n",
      "33: -1.6961e+17 -1.6961e+17  2e-31  2e-07  1e-16\n",
      "34: -1.6961e+17 -1.6961e+17  2e-33  4e-07  2e-16\n",
      "35: -1.6961e+17 -1.6961e+17  2e-35  3e-07  1e-16\n",
      "36: -1.6961e+17 -1.6961e+17  2e-37  5e-07  1e-16\n",
      "37: -1.6961e+17 -1.6961e+17  2e-39  4e-07  1e-16\n",
      "38: -1.6961e+17 -1.6961e+17  2e-41  3e-07  1e-16\n",
      "39: -1.6961e+17 -1.6961e+17  2e-43  9e-08  1e-16\n",
      "Optimal solution found.\n"
     ]
    }
   ],
   "source": [
    "e_star = cvxopt_solve_qp(np.dot(S.T,S), -np.dot(S.T, q), -np.identity(30), np.zeros(30))"
   ]
  },
  {
   "cell_type": "code",
   "execution_count": 318,
   "metadata": {},
   "outputs": [],
   "source": [
    "d_star = e_star / N\n",
    "# for r in range(30):\n",
    "#     if d_star[r] < 1e-10:\n",
    "#         d_star[r] = 0"
   ]
  },
  {
   "cell_type": "code",
   "execution_count": 319,
   "metadata": {},
   "outputs": [
    {
     "data": {
      "text/plain": [
       "matrix([[  2.20992533e-02],\n",
       "        [  8.95300190e-57],\n",
       "        [  1.83126630e-56],\n",
       "        [  6.48778373e-02],\n",
       "        [  5.96360778e-02],\n",
       "        [  5.01761181e-05],\n",
       "        [  2.15554306e-06],\n",
       "        [  7.66050728e-06],\n",
       "        [  3.10623537e-01],\n",
       "        [  1.26318788e-58],\n",
       "        [  3.95212974e-06],\n",
       "        [  7.75677290e-02],\n",
       "        [  5.53945588e-58],\n",
       "        [  4.34877226e-58],\n",
       "        [  1.09411429e-02],\n",
       "        [  4.71500474e-06],\n",
       "        [  8.60098913e-02],\n",
       "        [  1.28039625e-05],\n",
       "        [  1.87151153e-02],\n",
       "        [  8.79759865e-02],\n",
       "        [  1.48729716e-02],\n",
       "        [  1.49006407e-02],\n",
       "        [  3.16420618e-06],\n",
       "        [  8.12211778e-58],\n",
       "        [  4.15077556e-57],\n",
       "        [  1.52046791e-06],\n",
       "        [  3.45824662e-06],\n",
       "        [  5.91780319e-59],\n",
       "        [  1.40776460e-01],\n",
       "        [  9.09182184e-02]])"
      ]
     },
     "execution_count": 319,
     "metadata": {},
     "output_type": "execute_result"
    }
   ],
   "source": [
    "np.asmatrix(d_star).T"
   ]
  },
  {
   "cell_type": "code",
   "execution_count": 320,
   "metadata": {},
   "outputs": [
    {
     "data": {
      "text/plain": [
       "array([[ 0.02211104],\n",
       "       [ 0.        ],\n",
       "       [ 0.        ],\n",
       "       [ 0.06489338],\n",
       "       [ 0.05962682],\n",
       "       [ 0.        ],\n",
       "       [ 0.        ],\n",
       "       [ 0.        ],\n",
       "       [ 0.31062873],\n",
       "       [ 0.        ],\n",
       "       [ 0.        ],\n",
       "       [ 0.07757486],\n",
       "       [ 0.        ],\n",
       "       [ 0.        ],\n",
       "       [ 0.01097084],\n",
       "       [ 0.        ],\n",
       "       [ 0.08600981],\n",
       "       [ 0.        ],\n",
       "       [ 0.01872787],\n",
       "       [ 0.08799176],\n",
       "       [ 0.01486286],\n",
       "       [ 0.0149007 ],\n",
       "       [ 0.        ],\n",
       "       [ 0.        ],\n",
       "       [ 0.        ],\n",
       "       [ 0.        ],\n",
       "       [ 0.        ],\n",
       "       [ 0.        ],\n",
       "       [ 0.14076784],\n",
       "       [ 0.09093349]])"
      ]
     },
     "execution_count": 320,
     "metadata": {},
     "output_type": "execute_result"
    }
   ],
   "source": [
    "d"
   ]
  },
  {
   "cell_type": "code",
   "execution_count": 321,
   "metadata": {},
   "outputs": [],
   "source": [
    "PP = np.zeros(shape=(96,1))\n",
    "for i in range(96):\n",
    "    for j in range(3):\n",
    "        PP[i,0] += P[i,j]"
   ]
  },
  {
   "cell_type": "code",
   "execution_count": 322,
   "metadata": {},
   "outputs": [
    {
     "name": "stdout",
     "output_type": "stream",
     "text": [
      "     pcost       dcost       gap    pres   dres\n",
      " 0: -4.6781e+07 -7.1293e+07  2e+07  0e+00  1e+00\n",
      " 1: -9.2851e+07 -1.1063e+08  2e+07  2e-11  2e-01\n",
      " 2: -9.8984e+07 -1.1706e+08  2e+07  2e-11  1e-16\n",
      " 3: -1.0031e+08 -1.0421e+08  4e+06  8e-12  1e-16\n",
      " 4: -1.0064e+08 -1.0113e+08  5e+05  9e-12  1e-16\n",
      " 5: -1.0071e+08 -1.0079e+08  8e+04  4e-12  1e-16\n",
      " 6: -1.0073e+08 -1.0074e+08  2e+04  8e-12  1e-16\n",
      " 7: -1.0073e+08 -1.0073e+08  2e+03  1e-11  1e-16\n",
      " 8: -1.0073e+08 -1.0073e+08  3e+02  1e-11  1e-16\n",
      " 9: -1.0073e+08 -1.0073e+08  4e+01  2e-11  1e-16\n",
      "Optimal solution found.\n"
     ]
    }
   ],
   "source": [
    "e_star_prime = cvxopt_solve_qp(np.dot(S.T,S), -np.dot(S.T, PP), -np.identity(30), np.zeros(30))"
   ]
  },
  {
   "cell_type": "code",
   "execution_count": 323,
   "metadata": {},
   "outputs": [],
   "source": [
    "NN = 0\n",
    "for j in range(3):\n",
    "    NN += np.sum(P[:,j])"
   ]
  },
  {
   "cell_type": "code",
   "execution_count": 324,
   "metadata": {},
   "outputs": [],
   "source": [
    "d_star_prime = e_star_prime / NN\n",
    "# for r in range(30):\n",
    "#     if d_star_prime[r] < 1e-10:\n",
    "#         d_star_prime[r] = 0"
   ]
  },
  {
   "cell_type": "code",
   "execution_count": 325,
   "metadata": {},
   "outputs": [
    {
     "data": {
      "text/plain": [
       "array([  2.19503850e-02,   2.32286876e-05,   2.10492459e-04,\n",
       "         6.45887990e-02,   5.88489462e-02,   5.53646056e-04,\n",
       "         5.03637510e-05,   2.63766753e-04,   3.10523807e-01,\n",
       "         2.72003631e-05,   6.67369644e-05,   7.77099465e-02,\n",
       "         1.61202256e-05,   1.11554542e-04,   1.06545565e-02,\n",
       "         2.43453364e-04,   8.59869665e-02,   8.14294996e-05,\n",
       "         1.84730349e-02,   8.77350417e-02,   1.47655465e-02,\n",
       "         1.48629430e-02,   2.01960128e-04,   2.26740894e-04,\n",
       "         1.89494515e-04,   2.33031064e-04,   3.75070304e-05,\n",
       "         4.64808432e-05,   1.40611974e-01,   9.07333757e-02])"
      ]
     },
     "execution_count": 325,
     "metadata": {},
     "output_type": "execute_result"
    }
   ],
   "source": [
    "d_star_prime"
   ]
  },
  {
   "cell_type": "code",
   "execution_count": 326,
   "metadata": {},
   "outputs": [
    {
     "data": {
      "text/plain": [
       "array([  2.20992533e-02,   8.95300190e-57,   1.83126630e-56,\n",
       "         6.48778373e-02,   5.96360778e-02,   5.01761181e-05,\n",
       "         2.15554306e-06,   7.66050728e-06,   3.10623537e-01,\n",
       "         1.26318788e-58,   3.95212974e-06,   7.75677290e-02,\n",
       "         5.53945588e-58,   4.34877226e-58,   1.09411429e-02,\n",
       "         4.71500474e-06,   8.60098913e-02,   1.28039625e-05,\n",
       "         1.87151153e-02,   8.79759865e-02,   1.48729716e-02,\n",
       "         1.49006407e-02,   3.16420618e-06,   8.12211778e-58,\n",
       "         4.15077556e-57,   1.52046791e-06,   3.45824662e-06,\n",
       "         5.91780319e-59,   1.40776460e-01,   9.09182184e-02])"
      ]
     },
     "execution_count": 326,
     "metadata": {},
     "output_type": "execute_result"
    }
   ],
   "source": [
    "d_star"
   ]
  },
  {
   "cell_type": "code",
   "execution_count": 327,
   "metadata": {},
   "outputs": [
    {
     "data": {
      "text/plain": [
       "array([[ 0.02211104],\n",
       "       [ 0.        ],\n",
       "       [ 0.        ],\n",
       "       [ 0.06489338],\n",
       "       [ 0.05962682],\n",
       "       [ 0.        ],\n",
       "       [ 0.        ],\n",
       "       [ 0.        ],\n",
       "       [ 0.31062873],\n",
       "       [ 0.        ],\n",
       "       [ 0.        ],\n",
       "       [ 0.07757486],\n",
       "       [ 0.        ],\n",
       "       [ 0.        ],\n",
       "       [ 0.01097084],\n",
       "       [ 0.        ],\n",
       "       [ 0.08600981],\n",
       "       [ 0.        ],\n",
       "       [ 0.01872787],\n",
       "       [ 0.08799176],\n",
       "       [ 0.01486286],\n",
       "       [ 0.0149007 ],\n",
       "       [ 0.        ],\n",
       "       [ 0.        ],\n",
       "       [ 0.        ],\n",
       "       [ 0.        ],\n",
       "       [ 0.        ],\n",
       "       [ 0.        ],\n",
       "       [ 0.14076784],\n",
       "       [ 0.09093349]])"
      ]
     },
     "execution_count": 327,
     "metadata": {},
     "output_type": "execute_result"
    }
   ],
   "source": [
    "d"
   ]
  },
  {
   "cell_type": "code",
   "execution_count": 331,
   "metadata": {},
   "outputs": [
    {
     "data": {
      "text/plain": [
       "1.6464414210627638"
      ]
     },
     "execution_count": 331,
     "metadata": {},
     "output_type": "execute_result"
    }
   ],
   "source": [
    "np.linalg.norm(P - np.dot(S, np.dot(np.asmatrix(d_star).T, c)))"
   ]
  },
  {
   "cell_type": "code",
   "execution_count": 332,
   "metadata": {},
   "outputs": [
    {
     "data": {
      "text/plain": [
       "3.8449180522803235"
      ]
     },
     "execution_count": 332,
     "metadata": {},
     "output_type": "execute_result"
    }
   ],
   "source": [
    "np.linalg.norm(P - np.dot(S, np.dot(np.asmatrix(d_star_prime).T, c)))"
   ]
  },
  {
   "cell_type": "code",
   "execution_count": 330,
   "metadata": {},
   "outputs": [
    {
     "data": {
      "text/plain": [
       "matrix([[  2.20992533e-02],\n",
       "        [  8.95300190e-57],\n",
       "        [  1.83126630e-56],\n",
       "        [  6.48778373e-02],\n",
       "        [  5.96360778e-02],\n",
       "        [  5.01761181e-05],\n",
       "        [  2.15554306e-06],\n",
       "        [  7.66050728e-06],\n",
       "        [  3.10623537e-01],\n",
       "        [  1.26318788e-58],\n",
       "        [  3.95212974e-06],\n",
       "        [  7.75677290e-02],\n",
       "        [  5.53945588e-58],\n",
       "        [  4.34877226e-58],\n",
       "        [  1.09411429e-02],\n",
       "        [  4.71500474e-06],\n",
       "        [  8.60098913e-02],\n",
       "        [  1.28039625e-05],\n",
       "        [  1.87151153e-02],\n",
       "        [  8.79759865e-02],\n",
       "        [  1.48729716e-02],\n",
       "        [  1.49006407e-02],\n",
       "        [  3.16420618e-06],\n",
       "        [  8.12211778e-58],\n",
       "        [  4.15077556e-57],\n",
       "        [  1.52046791e-06],\n",
       "        [  3.45824662e-06],\n",
       "        [  5.91780319e-59],\n",
       "        [  1.40776460e-01],\n",
       "        [  9.09182184e-02]])"
      ]
     },
     "execution_count": 330,
     "metadata": {},
     "output_type": "execute_result"
    }
   ],
   "source": [
    "np.asmatrix(d_star).T"
   ]
  },
  {
   "cell_type": "code",
   "execution_count": null,
   "metadata": {},
   "outputs": [],
   "source": []
  },
  {
   "cell_type": "code",
   "execution_count": null,
   "metadata": {},
   "outputs": [],
   "source": []
  }
 ],
 "metadata": {
  "kernelspec": {
   "display_name": "Python 2",
   "language": "python",
   "name": "python2"
  },
  "language_info": {
   "codemirror_mode": {
    "name": "ipython",
    "version": 2
   },
   "file_extension": ".py",
   "mimetype": "text/x-python",
   "name": "python",
   "nbconvert_exporter": "python",
   "pygments_lexer": "ipython2",
   "version": "2.7.3"
  }
 },
 "nbformat": 4,
 "nbformat_minor": 2
}
